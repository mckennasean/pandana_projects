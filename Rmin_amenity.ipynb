{
 "cells": [
  {
   "cell_type": "markdown",
   "metadata": {
    "slideshow": {
     "slide_type": "skip"
    }
   },
   "source": [
    "## Output has been removed from this notebook to reduce file sizes in the repo"
   ]
  },
  {
   "cell_type": "code",
   "execution_count": 1,
   "metadata": {
    "collapsed": false,
    "slideshow": {
     "slide_type": "skip"
    }
   },
   "outputs": [
    {
     "name": "stdout",
     "output_type": "stream",
     "text": [
      "C:\\Users\\spm448\\Anaconda\\DLLs\n"
     ]
    }
   ],
   "source": [
    "%load_ext autoreload\n",
    "%autoreload 2\n",
    "import scipy\n",
    "import pandas as pd\n",
    "import numpy as np\n",
    "import pandana as pdna\n",
    "import geopandas.io.osm as osm\n",
    "%matplotlib inline"
   ]
  },
  {
   "cell_type": "markdown",
   "metadata": {
    "slideshow": {
     "slide_type": "slide"
    }
   },
   "source": [
    "## Download OpenStreetMap convenience stores for San Francisco proper"
   ]
  },
  {
   "cell_type": "raw",
   "metadata": {
    "slideshow": {
     "slide_type": "slide"
    }
   },
   "source": [
    "## Download OpenStreetMap convenience stores for San Francisco proper"
   ]
  },
  {
   "cell_type": "code",
   "execution_count": 2,
   "metadata": {
    "collapsed": false,
    "slideshow": {
     "slide_type": "fragment"
    }
   },
   "outputs": [
    {
     "name": "stdout",
     "output_type": "stream",
     "text": [
      "17255\n"
     ]
    }
   ],
   "source": [
    "conven_gdf = osm.query_osm('node', \n",
    "                    bbox=[-122.8662,37.1373,-121.4798,38.2158],\n",
    "                    tags={'amenity'})\n",
    "print len(conven_gdf)"
   ]
  },
  {
   "cell_type": "code",
   "execution_count": 3,
   "metadata": {
    "collapsed": false,
    "slideshow": {
     "slide_type": "fragment"
    }
   },
   "outputs": [
    {
     "name": "stdout",
     "output_type": "stream",
     "text": [
      "0    POINT (586017.1238967882 4140843.400581283)\n",
      "1    POINT (566378.2728304225 4191104.777485695)\n",
      "2    POINT (568052.5834068502 4192724.506152098)\n",
      "Name: geometry, dtype: object\n",
      "17255\n"
     ]
    }
   ],
   "source": [
    "conven_gdf = conven_gdf[conven_gdf.type == 'Point'].to_crs(epsg=3740)\n",
    "print conven_gdf.geometry.head(3)\n",
    "print len(conven_gdf)"
   ]
  },
  {
   "cell_type": "code",
   "execution_count": 4,
   "metadata": {
    "collapsed": false,
    "slideshow": {
     "slide_type": "fragment"
    }
   },
   "outputs": [
    {
     "name": "stdout",
     "output_type": "stream",
     "text": [
      "0    586017.123897\n",
      "1    566378.272830\n",
      "2    568052.583407\n",
      "3    563355.264825\n",
      "4    566419.197668\n",
      "dtype: float64\n"
     ]
    }
   ],
   "source": [
    "x, y = zip(*[(p.x, p.y) for (i, p) \n",
    "             in conven_gdf.geometry.iteritems()])\n",
    "x = pd.Series(x)\n",
    "y = pd.Series(y)\n",
    "print x.head()"
   ]
  },
  {
   "cell_type": "markdown",
   "metadata": {
    "slideshow": {
     "slide_type": "slide"
    }
   },
   "source": [
    "## Get OpenStreetMap networks for Bay Area that I had previously - someday soon we'll have direct OSM import"
   ]
  },
  {
   "cell_type": "code",
   "execution_count": 5,
   "metadata": {
    "collapsed": false,
    "slideshow": {
     "slide_type": "fragment"
    }
   },
   "outputs": [
    {
     "name": "stdout",
     "output_type": "stream",
     "text": [
      "226060\n"
     ]
    }
   ],
   "source": [
    "store = pd.HDFStore('data/osm_bayarea.h5', \"r\")\n",
    "nodes = store.nodes\n",
    "edges = store.edges\n",
    "print len(nodes)"
   ]
  },
  {
   "cell_type": "markdown",
   "metadata": {
    "slideshow": {
     "slide_type": "slide"
    }
   },
   "source": [
    "## Initialize and preprocess the network"
   ]
  },
  {
   "cell_type": "code",
   "execution_count": 6,
   "metadata": {
    "collapsed": false,
    "slideshow": {
     "slide_type": "fragment"
    }
   },
   "outputs": [],
   "source": [
    "net=pdna.Network(nodes.x, \n",
    "                       nodes.y, \n",
    "                       edges[\"from\"], \n",
    "                       edges.to, \n",
    "                       edges[[\"weight\"]])\n",
    "net.precompute(3000)"
   ]
  },
  {
   "cell_type": "markdown",
   "metadata": {
    "slideshow": {
     "slide_type": "slide"
    }
   },
   "source": [
    "## Nearest *point-of-interest* queries"
   ]
  },
  {
   "cell_type": "code",
   "execution_count": 7,
   "metadata": {
    "collapsed": false,
    "slideshow": {
     "slide_type": "fragment"
    }
   },
   "outputs": [],
   "source": [
    "net.init_pois(num_categories=1, max_dist=3000, max_pois=50)"
   ]
  },
  {
   "cell_type": "code",
   "execution_count": 8,
   "metadata": {
    "collapsed": false,
    "slideshow": {
     "slide_type": "fragment"
    }
   },
   "outputs": [],
   "source": [
    "net.set_pois(\"amenities\", x, y)"
   ]
  },
  {
   "cell_type": "code",
   "execution_count": 9,
   "metadata": {
    "collapsed": false,
    "slideshow": {
     "slide_type": "fragment"
    }
   },
   "outputs": [],
   "source": [
    "node_ids = net.get_node_ids(x, y)"
   ]
  },
  {
   "cell_type": "code",
   "execution_count": 10,
   "metadata": {
    "collapsed": false,
    "slideshow": {
     "slide_type": "fragment"
    }
   },
   "outputs": [],
   "source": [
    "net.set(node_ids)"
   ]
  },
  {
   "cell_type": "code",
   "execution_count": 11,
   "metadata": {
    "collapsed": true
   },
   "outputs": [],
   "source": [
    "agg = pd.DataFrame(net.nearest_pois(3000, \"amenities\", num_pois=1))\n",
    "# Most values equal maximum since network is entire bay area"
   ]
  },
  {
   "cell_type": "code",
   "execution_count": 12,
   "metadata": {
    "collapsed": false
   },
   "outputs": [
    {
     "data": {
      "text/plain": [
       "Num    685.334045\n",
       "dtype: float32"
      ]
     },
     "execution_count": 12,
     "metadata": {},
     "output_type": "execute_result"
    },
    {
     "data": {
      "image/png": "[encoded data removed]",
      "text/plain": [
       "<matplotlib.figure.Figure at 0xc750550>"
      ]
     },
     "metadata": {},
     "output_type": "display_data"
    }
   ],
   "source": [
    "# from scipy.stats import expon\n",
    "\n",
    "agg.columns = ['Num']\n",
    "agg = agg[agg.Num  < 3000]\n",
    "sort = agg.sort(columns='Num', axis=0)\n",
    "# agg['node'] = [i for i in range(len(agg))]\n",
    "\n",
    "sort.plot(kind = 'hist', bins=30)\n",
    "sort.mean()\n",
    "\n",
    "#probs = agg.divide(float(sum(agg.Num)))\n",
    "# a, b = expon.fit(agg)\n",
    "    \n",
    "# print a\n",
    "# print b\n",
    "# counts.hist()"
   ]
  },
  {
   "cell_type": "code",
   "execution_count": 36,
   "metadata": {
    "collapsed": false
   },
   "outputs": [
    {
     "name": "stdout",
     "output_type": "stream",
     "text": [
      "[-1.33763354 -0.66235128]\n"
     ]
    }
   ],
   "source": [
    "lin = np.polyfit(x, y, 1)\n",
    "print lin"
   ]
  }
 ],
 "metadata": {
  "kernelspec": {
   "display_name": "Python 2",
   "language": "python",
   "name": "python2"
  },
  "language_info": {
   "codemirror_mode": {
    "name": "ipython",
    "version": 2
   },
   "file_extension": ".py",
   "mimetype": "text/x-python",
   "name": "python",
   "nbconvert_exporter": "python",
   "pygments_lexer": "ipython2",
   "version": "2.7.9"
  }
 },
 "nbformat": 4,
 "nbformat_minor": 0
}
