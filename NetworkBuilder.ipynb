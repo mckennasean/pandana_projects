{
 "cells": [
  {
   "cell_type": "code",
   "execution_count": 62,
   "metadata": {
    "collapsed": false
   },
   "outputs": [
    {
     "name": "stdout",
     "output_type": "stream",
     "text": [
      "The autoreload extension is already loaded. To reload it, use:\n",
      "  %reload_ext autoreload\n"
     ]
    }
   ],
   "source": [
    "% load_ext autoreload\n",
    "% autoreload 2 \n",
    "\n",
    "import pandas as pd # DataFrame package\n",
    "import osmapi # API for open street maps\n",
    "import time"
   ]
  },
  {
   "cell_type": "code",
   "execution_count": 56,
   "metadata": {
    "collapsed": false
   },
   "outputs": [
    {
     "name": "stdout",
     "output_type": "stream",
     "text": [
      "0    5029221\n",
      "1    5668968\n",
      "2    5668989\n",
      "3    5668977\n",
      "4    5052941\n",
      "Name: osm_id, dtype: int64\n"
     ]
    }
   ],
   "source": [
    "road_nodes = pd.DataFrame(pd.read_csv('ny_osm_ways.csv')) # this CSV has 220 000 lines. \n",
    "osm_ids = road_nodes.osm_id # column of DataFrame"
   ]
  },
  {
   "cell_type": "code",
   "execution_count": 71,
   "metadata": {
    "collapsed": false
   },
   "outputs": [
    {
     "name": "stdout",
     "output_type": "stream",
     "text": [
      "('Time elapsed is ', 12.965999841690063)\n",
      "          lat        lon     node_id\n",
      "0   40.690968 -73.989220   278630910\n",
      "1   40.692088 -73.988932   278630368\n",
      "2   40.785593 -73.982011    42421778\n",
      "3   40.785031 -73.980678    42421776\n",
      "4   40.784569 -73.979583    42421775\n",
      "5   40.784494 -73.979405  1061531525\n",
      "6   40.783828 -73.977825    42421772\n",
      "7   40.782631 -73.974988    42421769\n",
      "8   40.732847 -73.995914    42421877\n",
      "9   40.734149 -73.999019    42421882\n",
      "10  40.788514 -73.981070    42421820\n",
      "11  40.787567 -73.978829    42421810\n",
      "12  40.787088 -73.977693    42421809\n",
      "13  40.787014 -73.977517  1061531683\n",
      "14  40.786363 -73.975975    42421806\n",
      "15  40.785165 -73.973140    42421803\n",
      "16  40.783979 -73.970329    42421800\n",
      "17  40.796489 -74.481341    33978421\n",
      "18  40.796374 -74.481238  2885369520\n",
      "19  40.796290 -74.481136   994331956\n",
      "20  40.796158 -74.480934  1741621292\n",
      "21  40.788951 -74.472363    33978231\n",
      "22  40.788709 -74.470698  1975614554\n",
      "23  40.734783 -73.999248    42421901\n",
      "24  40.735189 -73.999371    42421905\n",
      "25  40.703314 -74.007766    42421951\n",
      "26  40.703813 -74.008325    42421946\n",
      "27  40.703885 -74.008408  1251958156\n",
      "28  40.704211 -74.008789    42421941\n",
      "29  40.859303 -73.931333    42421783\n",
      "30  40.859181 -73.931147  1764387328\n",
      "31  40.706274 -74.015181    42422816\n",
      "32  40.706247 -74.015070    42422818\n",
      "33  40.802149 -73.931308   371239961\n",
      "34  40.802731 -73.932759    42423170\n",
      "35  40.812607 -73.956814    42421852\n",
      "36  40.812841 -73.957387  3579426844\n",
      "37  40.813756 -73.959627   561035342\n",
      "38  40.813781 -73.959684  2541754741\n",
      "39  40.813839 -73.959816    42421857\n",
      "40  40.814192 -73.960687    42421865\n",
      "          from  imp          to\n",
      "0    278630910    5   278630368\n",
      "1     42421778    5    42421776\n",
      "2     42421776    5    42421775\n",
      "3     42421775    5  1061531525\n",
      "4   1061531525    5    42421772\n",
      "5     42421772    5    42421769\n",
      "6     42421877    5    42421882\n",
      "7     42421820    5    42421810\n",
      "8     42421810    5    42421809\n",
      "9     42421809    5  1061531683\n",
      "10  1061531683    5    42421806\n",
      "11    42421806    5    42421803\n",
      "12    42421803    5    42421800\n",
      "13    33978421    5  2885369520\n",
      "14  2885369520    5   994331956\n",
      "15   994331956    5  1741621292\n",
      "16    33978231    5  1975614554\n",
      "17    42421901    5    42421905\n",
      "18    42421951    5    42421946\n",
      "19    42421946    5  1251958156\n",
      "20  1251958156    5    42421941\n",
      "21    42421783    5  1764387328\n",
      "22    42422816    5    42422818\n",
      "23   371239961    5    42423170\n",
      "24    42421852    5  3579426844\n",
      "25  3579426844    5   561035342\n",
      "26   561035342    5  2541754741\n",
      "27  2541754741    5    42421857\n",
      "28    42421857    5    42421865\n"
     ]
    }
   ],
   "source": [
    "api = osmapi.OsmApi()\n",
    "\n",
    "start = time.time()\n",
    "\n",
    "node_dict = dict()\n",
    "edge_dict = dict()\n",
    "\n",
    "for i in range(12):\n",
    "    # This line is probably really slow because it makes a query on the internet. I'll try to\n",
    "    # figure out how to query multiple things at once\n",
    "    ways = api.WayGet(osm_ids[i]) \n",
    "\n",
    "    nodes = ways['nd'] # 'Nodes' included in each 'way'\n",
    "    \n",
    "    \n",
    "    ### Add node coords to node_df\n",
    "    for j in range(len(nodes)):\n",
    "        if not nodes[j] in node_dict:\n",
    "            node_dict.setdefault(\"node_id\",[]).append(nodes[j])\n",
    "            node_dict.setdefault(\"lat\",[]).append(api.NodeGet(nodes[j])[\"lat\"])\n",
    "            node_dict.setdefault(\"lon\",[]).append(api.NodeGet(nodes[j])[\"lon\"])\n",
    "\n",
    "    ### Add edge coords to edge_df          \n",
    "    for k in range(len(nodes) - 1):\n",
    "        edge_dict.setdefault(\"from\",[]).append(nodes[k])\n",
    "        edge_dict.setdefault(\"to\",[]).append(nodes[k+1])\n",
    "        edge_dict.setdefault(\"imp\",[]).append(5)\n",
    "\n",
    "        # TODO write impedance function imp(road_nodes.type[j])\n",
    "\n",
    "    \n",
    "node_df = pd.DataFrame(node_dict)\n",
    "edge_df = pd.DataFrame(edge_dict)\n",
    "                                         \n",
    "                                         \n",
    "print ('Time elapsed is ', time.time() - start) # currently takes about 1 second per line\n",
    "                   \n",
    "print node_df.head()\n",
    "print edge_df.head()"
   ]
  },
  {
   "cell_type": "code",
   "execution_count": 72,
   "metadata": {
    "collapsed": false
   },
   "outputs": [
    {
     "name": "stdout",
     "output_type": "stream",
     "text": [
      "''\n"
     ]
    },
    {
     "ename": "ApiError",
     "evalue": "Request failed: 404 - Not Found - <!DOCTYPE HTML PUBLIC \"-//W3C//DTD HTML 4.01 Transitional//EN\"\n   \"http://www.w3.org/TR/html4/loose.dtd\">\n<html>\n<body>\n  <img src=\"/assets/osm_logo.png\" style=\"float:left; margin:10px\">\n  <div style=\"float:left;\">\n    <h1>File not found</h1>  \n    <p>Couldn't find a file/directory/API operation by that name on the OpenStreetMap server (HTTP 404)</p>\n    <p>Feel free to <a href=\"http://wiki.openstreetmap.org/wiki/Contact\" title=\"Various contact channels explained\">contact</a> the OpenStreetMap community if you have found a broken link / bug. Make a note of the exact URL of your request.</p>\n  </div>\n</body>\n</html>",
     "output_type": "error",
     "traceback": [
      "\u001b[1;31m---------------------------------------------------------------------------\u001b[0m",
      "\u001b[1;31mApiError\u001b[0m                                  Traceback (most recent call last)",
      "\u001b[1;32m<ipython-input-72-b15ac4a11150>\u001b[0m in \u001b[0;36m<module>\u001b[1;34m()\u001b[0m\n\u001b[1;32m----> 1\u001b[1;33m \u001b[0mways\u001b[0m \u001b[1;33m=\u001b[0m \u001b[0mapi\u001b[0m\u001b[1;33m.\u001b[0m\u001b[0mWayGet\u001b[0m\u001b[1;33m(\u001b[0m\u001b[1;33m[\u001b[0m\u001b[1;36m5029221\u001b[0m\u001b[1;33m,\u001b[0m \u001b[1;36m5668968\u001b[0m\u001b[1;33m]\u001b[0m\u001b[1;33m)\u001b[0m\u001b[1;33m\u001b[0m\u001b[0m\n\u001b[0m",
      "\u001b[1;32mC:\\Users\\spm448\\Anaconda\\lib\\site-packages\\osmapi\\OsmApi.pyc\u001b[0m in \u001b[0;36mWayGet\u001b[1;34m(self, WayId, WayVersion)\u001b[0m\n\u001b[0;32m    594\u001b[0m         \u001b[1;32mif\u001b[0m \u001b[0mWayVersion\u001b[0m \u001b[1;33m!=\u001b[0m \u001b[1;33m-\u001b[0m\u001b[1;36m1\u001b[0m\u001b[1;33m:\u001b[0m\u001b[1;33m\u001b[0m\u001b[0m\n\u001b[0;32m    595\u001b[0m             \u001b[0muri\u001b[0m \u001b[1;33m+=\u001b[0m \u001b[1;34m\"/\"\u001b[0m\u001b[1;33m+\u001b[0m\u001b[0mstr\u001b[0m\u001b[1;33m(\u001b[0m\u001b[0mWayVersion\u001b[0m\u001b[1;33m)\u001b[0m\u001b[1;33m\u001b[0m\u001b[0m\n\u001b[1;32m--> 596\u001b[1;33m         \u001b[0mdata\u001b[0m \u001b[1;33m=\u001b[0m \u001b[0mself\u001b[0m\u001b[1;33m.\u001b[0m\u001b[0m_get\u001b[0m\u001b[1;33m(\u001b[0m\u001b[0muri\u001b[0m\u001b[1;33m)\u001b[0m\u001b[1;33m\u001b[0m\u001b[0m\n\u001b[0m\u001b[0;32m    597\u001b[0m         \u001b[1;32mif\u001b[0m \u001b[1;32mnot\u001b[0m \u001b[0mdata\u001b[0m\u001b[1;33m:\u001b[0m\u001b[1;33m\u001b[0m\u001b[0m\n\u001b[0;32m    598\u001b[0m             \u001b[1;32mreturn\u001b[0m \u001b[0mdata\u001b[0m\u001b[1;33m\u001b[0m\u001b[0m\n",
      "\u001b[1;32mC:\\Users\\spm448\\Anaconda\\lib\\site-packages\\osmapi\\OsmApi.pyc\u001b[0m in \u001b[0;36m_get\u001b[1;34m(self, path)\u001b[0m\n\u001b[0;32m   1977\u001b[0m \u001b[1;33m\u001b[0m\u001b[0m\n\u001b[0;32m   1978\u001b[0m     \u001b[1;32mdef\u001b[0m \u001b[0m_get\u001b[0m\u001b[1;33m(\u001b[0m\u001b[0mself\u001b[0m\u001b[1;33m,\u001b[0m \u001b[0mpath\u001b[0m\u001b[1;33m)\u001b[0m\u001b[1;33m:\u001b[0m\u001b[1;33m\u001b[0m\u001b[0m\n\u001b[1;32m-> 1979\u001b[1;33m         \u001b[1;32mreturn\u001b[0m \u001b[0mself\u001b[0m\u001b[1;33m.\u001b[0m\u001b[0m_http\u001b[0m\u001b[1;33m(\u001b[0m\u001b[1;34m'GET'\u001b[0m\u001b[1;33m,\u001b[0m \u001b[0mpath\u001b[0m\u001b[1;33m,\u001b[0m \u001b[0mFalse\u001b[0m\u001b[1;33m,\u001b[0m \u001b[0mNone\u001b[0m\u001b[1;33m)\u001b[0m\u001b[1;33m\u001b[0m\u001b[0m\n\u001b[0m\u001b[0;32m   1980\u001b[0m \u001b[1;33m\u001b[0m\u001b[0m\n\u001b[0;32m   1981\u001b[0m     \u001b[1;32mdef\u001b[0m \u001b[0m_put\u001b[0m\u001b[1;33m(\u001b[0m\u001b[0mself\u001b[0m\u001b[1;33m,\u001b[0m \u001b[0mpath\u001b[0m\u001b[1;33m,\u001b[0m \u001b[0mdata\u001b[0m\u001b[1;33m)\u001b[0m\u001b[1;33m:\u001b[0m\u001b[1;33m\u001b[0m\u001b[0m\n",
      "\u001b[1;32mC:\\Users\\spm448\\Anaconda\\lib\\site-packages\\osmapi\\OsmApi.pyc\u001b[0m in \u001b[0;36m_http\u001b[1;34m(self, cmd, path, auth, send)\u001b[0m\n\u001b[0;32m   1941\u001b[0m             \u001b[0mi\u001b[0m \u001b[1;33m+=\u001b[0m \u001b[1;36m1\u001b[0m\u001b[1;33m\u001b[0m\u001b[0m\n\u001b[0;32m   1942\u001b[0m             \u001b[1;32mtry\u001b[0m\u001b[1;33m:\u001b[0m\u001b[1;33m\u001b[0m\u001b[0m\n\u001b[1;32m-> 1943\u001b[1;33m                 \u001b[1;32mreturn\u001b[0m \u001b[0mself\u001b[0m\u001b[1;33m.\u001b[0m\u001b[0m_http_request\u001b[0m\u001b[1;33m(\u001b[0m\u001b[0mcmd\u001b[0m\u001b[1;33m,\u001b[0m \u001b[0mpath\u001b[0m\u001b[1;33m,\u001b[0m \u001b[0mauth\u001b[0m\u001b[1;33m,\u001b[0m \u001b[0msend\u001b[0m\u001b[1;33m)\u001b[0m\u001b[1;33m\u001b[0m\u001b[0m\n\u001b[0m\u001b[0;32m   1944\u001b[0m             \u001b[1;32mexcept\u001b[0m \u001b[0mApiError\u001b[0m \u001b[1;32mas\u001b[0m \u001b[0me\u001b[0m\u001b[1;33m:\u001b[0m\u001b[1;33m\u001b[0m\u001b[0m\n\u001b[0;32m   1945\u001b[0m                 \u001b[1;32mif\u001b[0m \u001b[0me\u001b[0m\u001b[1;33m.\u001b[0m\u001b[0mstatus\u001b[0m \u001b[1;33m>=\u001b[0m \u001b[1;36m500\u001b[0m\u001b[1;33m:\u001b[0m\u001b[1;33m\u001b[0m\u001b[0m\n",
      "\u001b[1;32mC:\\Users\\spm448\\Anaconda\\lib\\site-packages\\osmapi\\OsmApi.pyc\u001b[0m in \u001b[0;36m_http_request\u001b[1;34m(self, cmd, path, auth, send)\u001b[0m\n\u001b[0;32m   1927\u001b[0m             \u001b[1;32mif\u001b[0m \u001b[0mresponse\u001b[0m\u001b[1;33m.\u001b[0m\u001b[0mstatus\u001b[0m \u001b[1;33m==\u001b[0m \u001b[1;36m410\u001b[0m\u001b[1;33m:\u001b[0m\u001b[1;33m\u001b[0m\u001b[0m\n\u001b[0;32m   1928\u001b[0m                 \u001b[1;32mreturn\u001b[0m \u001b[0mNone\u001b[0m\u001b[1;33m\u001b[0m\u001b[0m\n\u001b[1;32m-> 1929\u001b[1;33m             \u001b[1;32mraise\u001b[0m \u001b[0mApiError\u001b[0m\u001b[1;33m(\u001b[0m\u001b[0mresponse\u001b[0m\u001b[1;33m.\u001b[0m\u001b[0mstatus\u001b[0m\u001b[1;33m,\u001b[0m \u001b[0mresponse\u001b[0m\u001b[1;33m.\u001b[0m\u001b[0mreason\u001b[0m\u001b[1;33m,\u001b[0m \u001b[0mpayload\u001b[0m\u001b[1;33m)\u001b[0m\u001b[1;33m\u001b[0m\u001b[0m\n\u001b[0m\u001b[0;32m   1930\u001b[0m         \u001b[1;32mif\u001b[0m \u001b[0mself\u001b[0m\u001b[1;33m.\u001b[0m\u001b[0m_debug\u001b[0m\u001b[1;33m:\u001b[0m\u001b[1;33m\u001b[0m\u001b[0m\n\u001b[0;32m   1931\u001b[0m             error_msg = (\n",
      "\u001b[1;31mApiError\u001b[0m: Request failed: 404 - Not Found - <!DOCTYPE HTML PUBLIC \"-//W3C//DTD HTML 4.01 Transitional//EN\"\n   \"http://www.w3.org/TR/html4/loose.dtd\">\n<html>\n<body>\n  <img src=\"/assets/osm_logo.png\" style=\"float:left; margin:10px\">\n  <div style=\"float:left;\">\n    <h1>File not found</h1>  \n    <p>Couldn't find a file/directory/API operation by that name on the OpenStreetMap server (HTTP 404)</p>\n    <p>Feel free to <a href=\"http://wiki.openstreetmap.org/wiki/Contact\" title=\"Various contact channels explained\">contact</a> the OpenStreetMap community if you have found a broken link / bug. Make a note of the exact URL of your request.</p>\n  </div>\n</body>\n</html>"
     ]
    }
   ],
   "source": [
    "ways = api.WayGet([5029221, 5668968])"
   ]
  },
  {
   "cell_type": "code",
   "execution_count": null,
   "metadata": {
    "collapsed": true
   },
   "outputs": [],
   "source": []
  }
 ],
 "metadata": {
  "kernelspec": {
   "display_name": "Python 2",
   "language": "python",
   "name": "python2"
  },
  "language_info": {
   "codemirror_mode": {
    "name": "ipython",
    "version": 2
   },
   "file_extension": ".py",
   "mimetype": "text/x-python",
   "name": "python",
   "nbconvert_exporter": "python",
   "pygments_lexer": "ipython2",
   "version": "2.7.9"
  }
 },
 "nbformat": 4,
 "nbformat_minor": 0
}
