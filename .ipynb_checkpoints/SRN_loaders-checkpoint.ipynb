{
 "cells": [
  {
   "cell_type": "markdown",
   "metadata": {
    "slideshow": {
     "slide_type": "skip"
    }
   },
   "source": [
    "## Output has been removed from this notebook to reduce file sizes in the repo"
   ]
  },
  {
   "cell_type": "code",
   "execution_count": 1,
   "metadata": {
    "collapsed": false,
    "slideshow": {
     "slide_type": "skip"
    }
   },
   "outputs": [
    {
     "name": "stdout",
     "output_type": "stream",
     "text": [
      "C:\\Users\\spm448\\Anaconda\\DLLs\n"
     ]
    }
   ],
   "source": [
    "%load_ext autoreload\n",
    "%autoreload 2\n",
    "import scipy\n",
    "import pandas as pd\n",
    "import numpy as np\n",
    "\n",
    "import geopandas.io.osm as osm\n",
    "\n",
    "import pandana\n",
    "\n",
    "import pandana.loaders.osm as osm_load\n",
    "\n",
    "%matplotlib inline"
   ]
  },
  {
   "cell_type": "code",
   "execution_count": 2,
   "metadata": {
    "collapsed": false
   },
   "outputs": [
    {
     "name": "stdout",
     "output_type": "stream",
     "text": [
      "                  x          y\n",
      "id                            \n",
      "42421828 -73.976212  40.725326\n",
      "42421833 -73.975785  40.725920\n",
      "42421837 -73.975314  40.726545\n",
      "42421877 -73.995914  40.732847\n",
      "42421882 -73.999019  40.734149\n",
      "       from         to    distance\n",
      "0  42421828   42430942  101.478025\n",
      "1  42421833   42421828   75.236335\n",
      "2  42421833  274335455  101.804341\n",
      "3  42421837   42421833   79.999089\n",
      "4  42421877   42421882  299.092752\n"
     ]
    }
   ],
   "source": [
    "osm_load.h5_from_bbox(40.7090, -74.0142, 40.7668, -73.9738, 'manhattan.h5')"
   ]
  },
  {
   "cell_type": "markdown",
   "metadata": {
    "slideshow": {
     "slide_type": "slide"
    }
   },
   "source": [
    "## Download OpenStreetMap convenience stores for San Francisco proper"
   ]
  },
  {
   "cell_type": "code",
   "execution_count": 2,
   "metadata": {
    "collapsed": false,
    "slideshow": {
     "slide_type": "fragment"
    }
   },
   "outputs": [
    {
     "name": "stdout",
     "output_type": "stream",
     "text": [
      "3577\n"
     ]
    }
   ],
   "source": [
    "conven_gdf = osm.query_osm('node', \n",
    "#                     bbox=[-122.5415,37.6982,-122.3678,37.8071], ### SAN FRANCISCO\n",
    "                    bbox=[-74.0142, 40.7090,-73.9738,40.7668],\n",
    "                    # LONG LAT LONG LAT, different from network_from_bbox LAT LONG LAT LONG\n",
    "                    tags='amenity')\n",
    "print len(conven_gdf)"
   ]
  },
  {
   "cell_type": "code",
   "execution_count": 3,
   "metadata": {
    "collapsed": false,
    "slideshow": {
     "slide_type": "fragment"
    }
   },
   "outputs": [
    {
     "name": "stdout",
     "output_type": "stream",
     "text": [
      "0          POINT (-73.9766972 40.7625361)\n",
      "1    POINT (-73.98259779999999 40.732711)\n",
      "2          POINT (-73.9905606 40.7295282)\n",
      "Name: geometry, dtype: object\n",
      "3577\n"
     ]
    }
   ],
   "source": [
    "#conven_gdf = conven_gdf[conven_gdf.type == 'Point'].to_crs(epsg=3740)\n",
    "conven_gdf = conven_gdf[conven_gdf.type == 'Point']\n",
    "print conven_gdf.geometry.head(3)\n",
    "print len(conven_gdf)"
   ]
  },
  {
   "cell_type": "code",
   "execution_count": 4,
   "metadata": {
    "collapsed": false,
    "slideshow": {
     "slide_type": "fragment"
    }
   },
   "outputs": [
    {
     "name": "stdout",
     "output_type": "stream",
     "text": [
      "0   -73.976697\n",
      "1   -73.982598\n",
      "2   -73.990561\n",
      "3   -74.004720\n",
      "4   -73.997362\n",
      "dtype: float64\n"
     ]
    }
   ],
   "source": [
    "x, y = zip(*[(p.x, p.y) for (i, p) \n",
    "             in conven_gdf.geometry.iteritems()])\n",
    "x = pd.Series(x)\n",
    "y = pd.Series(y)\n",
    "print x.head()"
   ]
  },
  {
   "cell_type": "markdown",
   "metadata": {
    "slideshow": {
     "slide_type": "slide"
    }
   },
   "source": [
    "## Get OpenStreetMap networks for Bay Area that I had previously - someday soon we'll have direct OSM import"
   ]
  },
  {
   "cell_type": "code",
   "execution_count": 5,
   "metadata": {
    "collapsed": false,
    "slideshow": {
     "slide_type": "fragment"
    }
   },
   "outputs": [
    {
     "name": "stdout",
     "output_type": "stream",
     "text": [
      "0 1\n"
     ]
    }
   ],
   "source": [
    "net = osm_load.network_from_bbox(40.7090, -74.0142, 40.7668, -73.9738) # New York\n",
    "# 37.698205, -122.541522,37.807094, -122.367864 ### SAN FRANCISCO \n",
    "# LAT LONG LAT LONG different from query_osm bbox = LONG LAT LONG LAT\n",
    "net.precompute(2500)"
   ]
  },
  {
   "cell_type": "markdown",
   "metadata": {
    "slideshow": {
     "slide_type": "slide"
    }
   },
   "source": [
    "## Initialize and preprocess the network"
   ]
  },
  {
   "cell_type": "code",
   "execution_count": 6,
   "metadata": {
    "collapsed": false,
    "slideshow": {
     "slide_type": "fragment"
    }
   },
   "outputs": [],
   "source": [
    "net.init_pois(num_categories=2, max_dist=2000, max_pois=50)"
   ]
  },
  {
   "cell_type": "code",
   "execution_count": 7,
   "metadata": {
    "collapsed": false,
    "slideshow": {
     "slide_type": "fragment"
    }
   },
   "outputs": [],
   "source": [
    "net.set_pois({\"shops\"}, x, y)"
   ]
  },
  {
   "cell_type": "code",
   "execution_count": 8,
   "metadata": {
    "collapsed": false,
    "slideshow": {
     "slide_type": "fragment"
    }
   },
   "outputs": [
    {
     "name": "stdout",
     "output_type": "stream",
     "text": [
      "3500\n",
      "                        from         to    distance\n",
      "42421828 42430942   42421828   42430942  101.478025\n",
      "42421833 42421828   42421833   42421828   75.236335\n",
      "         274335455  42421833  274335455  101.804341\n",
      "42421837 42421833   42421837   42421833   79.999089\n",
      "42421877 42421882   42421877   42421882  299.092752\n",
      "       from         to    distance\n",
      "0  42421828   42430942  101.478025\n",
      "1  42421833   42421828   75.236335\n",
      "2  42421833  274335455  101.804341\n",
      "3  42421837   42421833   79.999089\n",
      "4  42421877   42421882  299.092752\n"
     ]
    }
   ],
   "source": [
    "print len(net.nodes_df)\n",
    "print net.edges_df.head()\n",
    "net.edges_df.reset_index(drop=True, inplace=True)\n",
    "print net.edges_df.head()\n",
    "node_ids = net.get_node_ids(x, y)"
   ]
  },
  {
   "cell_type": "code",
   "execution_count": 9,
   "metadata": {
    "collapsed": false
   },
   "outputs": [
    {
     "name": "stdout",
     "output_type": "stream",
     "text": [
      "            from          to    distance\n",
      "6082  3659184784  3659184788  168.757267\n",
      "6083  3659184788    42449038   69.660325\n",
      "6084  3669543175  3669543176   21.071377\n",
      "6085  3669543176  3669543177   42.082731\n",
      "6086  3669543177  1632878962   72.935732\n"
     ]
    }
   ],
   "source": [
    "print net.edges_df.tail()"
   ]
  },
  {
   "cell_type": "code",
   "execution_count": 10,
   "metadata": {
    "collapsed": false,
    "slideshow": {
     "slide_type": "fragment"
    }
   },
   "outputs": [],
   "source": [
    "net.set(node_ids)"
   ]
  },
  {
   "cell_type": "code",
   "execution_count": 11,
   "metadata": {
    "collapsed": false
   },
   "outputs": [],
   "source": [
    "agg = net.aggregate(1000, type=\"sum\", decay=\"flat\")"
   ]
  },
  {
   "cell_type": "code",
   "execution_count": 12,
   "metadata": {
    "collapsed": false
   },
   "outputs": [
    {
     "name": "stdout",
     "output_type": "stream",
     "text": [
      "3489\n"
     ]
    }
   ],
   "source": [
    "agg.sort(inplace=True, ascending=False)\n",
    "agg = agg[agg > 0]\n",
    "\n",
    "print len(agg)"
   ]
  },
  {
   "cell_type": "code",
   "execution_count": 13,
   "metadata": {
    "collapsed": false
   },
   "outputs": [
    {
     "name": "stdout",
     "output_type": "stream",
     "text": [
      "[  4.29935925e-320   3.74666138e-004   3.14546806e-004   1.16652007e-003\n",
      "   1.15107744e-003   1.14810475e-003   1.14744599e-003   8.60338355e-004\n",
      "   8.60091627e-004   8.59845186e-004   5.73230145e-004   5.73230009e-004\n",
      "   5.73230138e-004   5.73230117e-004   5.73230150e-004   2.86614994e-004\n",
      "   2.86615070e-004   2.86615039e-004   2.86614948e-004   2.86615065e-004\n",
      "   2.86615056e-004   2.86615075e-004   2.86615038e-004   4.31072276e-320\n",
      "   4.31121683e-320   4.31171089e-320   4.31220496e-320   4.31269902e-320\n",
      "   4.31319309e-320   4.31368715e-320]\n",
      "[  4.23068413e-320   2.66166661e-002   1.58008718e-002   9.87110586e-003\n",
      "   5.90655538e-003   3.97965688e-003   2.65170682e-003   1.96624516e-003\n",
      "   1.46924475e-003   1.07167481e-003   1.00068157e-003   8.34651256e-004\n",
      "   7.22560203e-004   6.22449405e-004   5.33234758e-004   5.69053499e-004\n",
      "   5.12787382e-004   4.66860296e-004   4.45457520e-004   4.03547235e-004\n",
      "   3.89714128e-004   3.74899921e-004   3.58099374e-004   4.24204764e-320\n",
      "   4.24254170e-320   4.24303577e-320   4.24352983e-320   4.24402390e-320\n",
      "   4.24451796e-320   4.24501203e-320]\n"
     ]
    }
   ],
   "source": [
    "from scipy.stats import expon\n",
    "\n",
    "a_vals = np.empty(30)\n",
    "b_vals = np.empty(30)\n",
    "\n",
    "for i in range(100, 2300, 100):\n",
    "    \n",
    "    agg = net.aggregate(i, type=\"sum\", decay=\"flat\")\n",
    "    agg = agg[agg > 0]\n",
    "    #agg = agg[agg < 301]\n",
    "    counts = agg.value_counts()\n",
    "    counts = counts.divide(float(sum(counts.values)))\n",
    "    a, b = expon.fit(counts)\n",
    "    a_vals[i/100] = a\n",
    "    b_vals[i/100] = b\n",
    "    \n",
    "print a_vals\n",
    "print b_vals"
   ]
  },
  {
   "cell_type": "code",
   "execution_count": 14,
   "metadata": {
    "collapsed": true
   },
   "outputs": [],
   "source": [
    "import matplotlib.pylab as plt"
   ]
  },
  {
   "cell_type": "code",
   "execution_count": 15,
   "metadata": {
    "collapsed": false
   },
   "outputs": [
    {
     "data": {
      "text/plain": [
       "<matplotlib.text.Text at 0x129d03c8>"
      ]
     },
     "execution_count": 15,
     "metadata": {},
     "output_type": "execute_result"
    },
    {
     "data": {
      "image/png": "[encoded data removed]",
      "text/plain": [
       "<matplotlib.figure.Figure at 0x10d05f60>"
      ]
     },
     "metadata": {},
     "output_type": "display_data"
    }
   ],
   "source": [
    "X = np.linspace(100, 2300, 23)\n",
    "\n",
    "plt.scatter(X[1:22], b_vals[1:22]) # first val is an outlier\n",
    "# np.polyfit(X[1:24], a_vals[1:24], 1)\n",
    "# plt.plot(X, f)\n",
    "plt.xlabel(\"Distance Along Network\")\n",
    "plt.ylabel(\"Lambda = 1/Expected Value of Amenities\")"
   ]
  },
  {
   "cell_type": "code",
   "execution_count": 16,
   "metadata": {
    "collapsed": false
   },
   "outputs": [
    {
     "name": "stdout",
     "output_type": "stream",
     "text": [
      "1.45305098092 -505.987472785\n"
     ]
    },
    {
     "data": {
      "text/plain": [
       "<matplotlib.text.Text at 0x12aaa0f0>"
      ]
     },
     "execution_count": 16,
     "metadata": {},
     "output_type": "execute_result"
    },
    {
     "data": {
      "image/png": "[encoded data removed]",
      "text/plain": [
       "<matplotlib.figure.Figure at 0x43835f8>"
      ]
     },
     "metadata": {},
     "output_type": "display_data"
    }
   ],
   "source": [
    "y = 1/(b_vals)[1:22]\n",
    "x =  X[1:22]\n",
    "\n",
    "a, b = np.polyfit(x, y, 1)\n",
    "\n",
    "print a, b\n",
    "\n",
    "f1 = a * X + b\n",
    "\n",
    "plt.scatter(x, y)\n",
    "\n",
    "plt.plot(X[1:22], f1[1:22])\n",
    "plt.xlabel(\"Distance Along Network\")\n",
    "plt.ylabel(\"Amenities Accessible\")"
   ]
  },
  {
   "cell_type": "code",
   "execution_count": null,
   "metadata": {
    "collapsed": true
   },
   "outputs": [],
   "source": []
  }
 ],
 "metadata": {
  "kernelspec": {
   "display_name": "Python 2",
   "language": "python",
   "name": "python2"
  },
  "language_info": {
   "codemirror_mode": {
    "name": "ipython",
    "version": 2
   },
   "file_extension": ".py",
   "mimetype": "text/x-python",
   "name": "python",
   "nbconvert_exporter": "python",
   "pygments_lexer": "ipython2",
   "version": "2.7.9"
  }
 },
 "nbformat": 4,
 "nbformat_minor": 0
}
