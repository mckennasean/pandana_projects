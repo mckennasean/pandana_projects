{
 "cells": [
  {
   "cell_type": "code",
   "execution_count": 1,
   "metadata": {
    "collapsed": false
   },
   "outputs": [
    {
     "name": "stdout",
     "output_type": "stream",
     "text": [
      "C:\\Users\\spm448\\Anaconda\\DLLs\n"
     ]
    }
   ],
   "source": [
    "% load_ext autoreload\n",
    "% autoreload 2\n",
    "\n",
    "import scipy\n",
    "import numpy as np\n",
    "import pandas as pd\n",
    "\n",
    "import geopandas.io.osm as osm\n",
    "\n",
    "import pandana\n",
    "\n",
    "import pandana.loaders.osm as osm_load\n",
    "\n",
    "% matplotlib inline"
   ]
  },
  {
   "cell_type": "code",
   "execution_count": 2,
   "metadata": {
    "collapsed": false
   },
   "outputs": [
    {
     "name": "stdout",
     "output_type": "stream",
     "text": [
      "                                                   name        area\n",
      "137                          Atlanta, GA Urbanized Area  6851428985\n",
      "160                           Austin, TX Urbanized Area  1354651025\n",
      "176                        Baltimore, MD Urbanized Area  1857113332\n",
      "343                   Boston, MA--NH--RI Urbanized Area  4852227548\n",
      "571                    Charlotte, NC--SC Urbanized Area  1920454942\n",
      "594                      Chicago, IL--IN Urbanized Area  6326686332\n",
      "610               Cincinnati, OH--KY--IN Urbanized Area  2040237609\n",
      "637                        Cleveland, OH Urbanized Area  1999397942\n",
      "699                         Columbus, OH Urbanized Area  1322092399\n",
      "800    Dallas--Fort Worth--Arlington, TX Urbanized Area  4607936452\n",
      "855                   Denver--Aurora, CO Urbanized Area  1729988718\n",
      "865                          Detroit, MI Urbanized Area  3463234750\n",
      "1486                         Houston, TX Urbanized Area  4299420988\n",
      "1515                    Indianapolis, IN Urbanized Area  1827862774\n",
      "1550                    Jacksonville, FL Urbanized Area  1373615003\n",
      "1615                 Kansas City, MO--KS Urbanized Area  1755587807\n",
      "1776            Las Vegas--Henderson, NV Urbanized Area  1079621093\n",
      "1898  Los Angeles--Long Beach--Anaheim, CA Urbanized...  4496266014\n",
      "2064                 Memphis, TN--MS--AR Urbanized Area  1288022457\n",
      "2081                           Miami, FL Urbanized Area  3207994271\n",
      "2116                       Milwaukee, WI Urbanized Area  1413150250\n",
      "2122       Minneapolis--St. Paul, MN--WI Urbanized Area  2646456610\n",
      "2330        New York--Newark, NY--NJ--CT Urbanized Area  8935981360\n",
      "2423                         Orlando, FL Urbanized Area  1548012602\n",
      "2542        Philadelphia, PA--NJ--DE--MD Urbanized Area  5131721516\n",
      "2546                   Phoenix--Mesa, AZ Urbanized Area  2969602180\n",
      "2567                      Pittsburgh, PA Urbanized Area  2344389921\n",
      "2622                    Portland, OR--WA Urbanized Area  1358145997\n",
      "2664                  Providence, RI--MA Urbanized Area  1411660749\n",
      "2756       Riverside--San Bernardino, CA Urbanized Area  1411456231\n",
      "2820                      Sacramento, CA Urbanized Area  1219827292\n",
      "2844                   St. Louis, MO--IL Urbanized Area  2392205874\n",
      "2869  Salt Lake City--West Valley City, UT Urbanized...   719719000\n",
      "2872                     San Antonio, TX Urbanized Area  1546484874\n",
      "2875                       San Diego, CA Urbanized Area  1896936256\n",
      "2883          San Francisco--Oakland, CA Urbanized Area  1356171095\n",
      "2888                        San Jose, CA Urbanized Area   740693828\n",
      "2889                        San Juan, PR Urbanized Area  2244716395\n",
      "2932                         Seattle, WA Urbanized Area  2616697301\n",
      "3170           Tampa--St. Petersburg, FL Urbanized Area  2478587543\n",
      "3328                  Virginia Beach, VA Urbanized Area  1334999348\n",
      "3375              Washington, DC--VA--MD Urbanized Area  3423261150\n",
      "number of metropolitan areas is 42\n"
     ]
    }
   ],
   "source": [
    "met_areas = pd.read_table('Gaz_ua_national.txt', header = 0, names = \n",
    "                          ['id', 'name', 'type', 'pop','households',\n",
    "                           'area', 'water', 'area_mi', 'water_mi',\n",
    "                           'lat', 'lon'])\n",
    "big_mets = met_areas[met_areas['pop'] > 1000000]\n",
    "print big_mets[['name', 'area']]\n",
    "print 'number of metropolitan areas is {}'.format(len(big_mets))"
   ]
  },
  {
   "cell_type": "code",
   "execution_count": 3,
   "metadata": {
    "collapsed": false
   },
   "outputs": [
    {
     "name": "stdout",
     "output_type": "stream",
     "text": [
      "                                  name      x_min      y_min      x_max  \\\n",
      "137         Atlanta, GA Urbanized Area -84.704711  33.353799 -83.959005   \n",
      "160          Austin, TX Urbanized Area -97.927306  30.149386 -97.595724   \n",
      "176       Baltimore, MD Urbanized Area -76.841878  38.989245 -76.453642   \n",
      "343  Boston, MA--NH--RI Urbanized Area -71.454482  41.977348 -70.826934   \n",
      "571   Charlotte, NC--SC Urbanized Area -81.013227  35.000660 -80.618425   \n",
      "\n",
      "         y_max  \n",
      "137  34.294405  \n",
      "160  30.567632  \n",
      "176  39.478953  \n",
      "343  42.768916  \n",
      "571  35.498648  \n"
     ]
    }
   ],
   "source": [
    "coords = pd.DataFrame()\n",
    "\n",
    "met_per_lon = 111000\n",
    "met_per_lat = 88000\n",
    "\n",
    "coords['name'] = big_mets.name\n",
    "coords['x_min'] = big_mets.lon - 0.5 * np.sqrt(big_mets.area)/met_per_lon\n",
    "coords['y_min'] = big_mets.lat - 0.5 * np.sqrt(big_mets.area)/met_per_lat\n",
    "coords['x_max'] = big_mets.lon + 0.5 * np.sqrt(big_mets.area)/met_per_lon\n",
    "coords['y_max'] = big_mets.lat + 0.5 * np.sqrt(big_mets.area)/met_per_lat\n",
    "\n",
    "print coords.head()"
   ]
  },
  {
   "cell_type": "code",
   "execution_count": 4,
   "metadata": {
    "collapsed": false
   },
   "outputs": [
    {
     "name": "stdout",
     "output_type": "stream",
     "text": [
      "reserved 42 networks\n"
     ]
    }
   ],
   "source": [
    "met_per_lon = 111000\n",
    "met_per_lat = 91000\n",
    "\n",
    "pandana.network.reserve_num_graphs(len(big_mets)) # TODO figure out how to delete networks\n",
    "\n",
    "print 'reserved {} networks'.format(len(big_mets))"
   ]
  },
  {
   "cell_type": "code",
   "execution_count": null,
   "metadata": {
    "collapsed": false
   },
   "outputs": [
    {
     "name": "stdout",
     "output_type": "stream",
     "text": [
      "-74.3960332513 -73.5444087487 40.1812529103 41.2554610897\n",
      "saved New York--Newark, NY--NJ--CT Urbanized Area\n"
     ]
    }
   ],
   "source": [
    "row = big_mets.ix[2330]\n",
    "\n",
    "met_per_lon = 111000\n",
    "met_per_lat = 88000\n",
    "\n",
    "# for row in atlanta\n",
    "leng = np.sqrt(row['area'])/2\n",
    "\n",
    "x_min, x_max = row.lon - leng/met_per_lon, row.lon + leng/met_per_lon\n",
    "y_min, y_max = row.lat - leng/met_per_lat, row.lat + leng/met_per_lat\n",
    "\n",
    "print x_min, x_max, y_min, y_max\n",
    "\n",
    "osm_load.h5_from_bbox(y_min, x_min, y_max, x_max, '{}.h5'.format(row['name'].replace(' ', '')))\n",
    "\n",
    "print 'saved {}'.format(row['name'])"
   ]
  },
  {
   "cell_type": "code",
   "execution_count": 10,
   "metadata": {
    "collapsed": false
   },
   "outputs": [
    {
     "name": "stdout",
     "output_type": "stream",
     "text": [
      "1358505856\n",
      "567024216\n",
      "2478865780\n",
      "3370891672\n",
      "3063771364\n"
     ]
    }
   ],
   "source": [
    "def flum(x):\n",
    "    print 4 * x\n",
    "    \n",
    "big_mets = met_areas[met_areas['pop'] > 100000]\n",
    "    \n",
    "i = 0\n",
    "\n",
    "for index, row in big_mets.iterrows():\n",
    "    if i < 5:\n",
    "        flum(row['area'])\n",
    "        i += 1"
   ]
  },
  {
   "cell_type": "code",
   "execution_count": 62,
   "metadata": {
    "collapsed": false
   },
   "outputs": [],
   "source": [
    "osm_load.h5_from_bbox(39.299, -76.469, 39.718, -76.137, 'test.h5')"
   ]
  },
  {
   "cell_type": "code",
   "execution_count": 21,
   "metadata": {
    "collapsed": true
   },
   "outputs": [],
   "source": [
    "import matplotlib.pyplot as plt"
   ]
  },
  {
   "cell_type": "code",
   "execution_count": 26,
   "metadata": {
    "collapsed": false
   },
   "outputs": [
    {
     "name": "stdout",
     "output_type": "stream",
     "text": [
      "594.03276718 278088457.141\n"
     ]
    },
    {
     "data": {
      "text/plain": [
       "(0, 10000000000L)"
      ]
     },
     "execution_count": 26,
     "metadata": {},
     "output_type": "execute_result"
    },
    {
     "data": {
      "image/png": "[encoded data removed]",
      "text/plain": [
       "<matplotlib.figure.Figure at 0x11182358>"
      ]
     },
     "metadata": {},
     "output_type": "display_data"
    }
   ],
   "source": [
    "bigs = met_areas[met_areas.POP10 > 100000]\n",
    "\n",
    "plt.scatter(bigs['POP10'], bigs['ALAND'])\n",
    "a, b = np.polyfit(bigs['POP10'], bigs['ALAND'], 1)\n",
    "print a, b\n",
    "plt.xlim([0, 10000000])\n",
    "plt.ylim([0, 10000000000])"
   ]
  },
  {
   "cell_type": "code",
   "execution_count": 38,
   "metadata": {
    "collapsed": false,
    "scrolled": true
   },
   "outputs": [
    {
     "name": "stdout",
     "output_type": "stream",
     "text": [
      "     id                                               name type     pop  \\\n",
      "6   199  Aberdeen--Bel Air South--Bel Air North, MD Urb...    U  213751   \n",
      "9   280                         Abilene, TX Urbanized Area    U  110421   \n",
      "18  631  Aguadilla--Isabela--San Sebasti�n, PR Urbanize...    U  306196   \n",
      "23  766                           Akron, OH Urbanized Area    U  569499   \n",
      "30  970             Albany--Schenectady, NY Urbanized Area    U  594962   \n",
      "\n",
      "    households       area     water  area_mi  water_mi        lat        lon  \n",
      "6        83721  339626464   9825290  131.131     3.794  39.508977 -76.303430  \n",
      "9        46732  141756054    988193   54.732     0.382  32.428466 -99.747188  \n",
      "18      138431  619716445    902076  239.274     0.348  18.369286 -67.040259  \n",
      "23      257659  842722918  17432485  325.377     6.731  41.066225 -81.491897  \n",
      "30      266370  765942841  16280778  295.732     6.286  42.746355 -73.800509  \n",
      "6       -76.303430\n",
      "9       -99.747188\n",
      "18      -67.040259\n",
      "23      -81.491897\n",
      "30      -73.800509\n",
      "38     -106.628890\n",
      "51      -75.442168\n",
      "66     -101.849137\n",
      "78     -149.847155\n",
      "90      -83.662679\n",
      "93     -121.782120\n",
      "95      -88.411096\n",
      "108     -66.807970\n",
      "119     -82.665570\n",
      "135     -83.398271\n",
      "137     -84.331858\n",
      "140     -74.590128\n",
      "154     -81.996378\n",
      "160     -97.761515\n",
      "165    -112.399026\n",
      "171    -119.030559\n",
      "176     -76.647760\n",
      "187     -70.576489\n",
      "205     -91.038912\n",
      "220     -94.127119\n",
      "244    -122.477024\n",
      "284    -108.531840\n",
      "285     -75.962775\n",
      "287     -86.791975\n",
      "310     -86.548361\n",
      "           ...    \n",
      "3197   -118.860558\n",
      "3211    -83.613945\n",
      "3218    -95.692459\n",
      "3232    -74.718158\n",
      "3244   -110.946141\n",
      "3249    -95.901334\n",
      "3255    -87.538932\n",
      "3266    -95.301882\n",
      "3283   -157.939756\n",
      "3284    -75.276013\n",
      "3293   -122.212096\n",
      "3312   -117.310824\n",
      "3328    -76.309596\n",
      "3330   -119.300277\n",
      "3334    -97.166048\n",
      "3344    -76.987871\n",
      "3362    -83.668193\n",
      "3375    -77.189759\n",
      "3385    -73.039574\n",
      "3389    -92.384177\n",
      "3475    -97.327301\n",
      "3501    -77.898336\n",
      "3529    -80.266476\n",
      "3530    -81.703779\n",
      "3553    -71.703799\n",
      "3565   -120.548226\n",
      "3574    -76.717203\n",
      "3577    -80.681079\n",
      "3581   -121.608318\n",
      "3584   -114.568173\n",
      "Name: lon, dtype: float64\n"
     ]
    }
   ],
   "source": [
    "met_areas = met_areas[met_areas['pop'] > 100000]\n",
    "print met_areas.head()\n",
    "print met_areas['lon']"
   ]
  },
  {
   "cell_type": "code",
   "execution_count": null,
   "metadata": {
    "collapsed": true
   },
   "outputs": [],
   "source": [
    "osm_load.h5_from_bbox(40.7090, -74.0142, 40.7668, -73.9738, 'manhattan.h5')"
   ]
  },
  {
   "cell_type": "code",
   "execution_count": 5,
   "metadata": {
    "collapsed": false
   },
   "outputs": [],
   "source": [
    "store = pd.HDFStore('Aberdeen--BelAirSouth--BelAirNorth,MDUrbanizedArea.h5', 'r')"
   ]
  },
  {
   "cell_type": "code",
   "execution_count": 7,
   "metadata": {
    "collapsed": false
   },
   "outputs": [
    {
     "name": "stdout",
     "output_type": "stream",
     "text": [
      "                  x          y\n",
      "id                            \n",
      "37018114 -76.452710  39.317318\n",
      "37018259 -76.410670  39.338874\n",
      "37018275 -76.410172  39.337958\n",
      "37018562 -76.461802  39.335190\n",
      "37019669 -76.465260  39.463479\n",
      "       from         to    distance\n",
      "0  37018114   37558452   43.946998\n",
      "1  37018114  966516834  238.373866\n",
      "2  37018259   37018275  110.523582\n",
      "3  37018259   37471712   28.853039\n",
      "4  37018562   37636492  191.273892\n"
     ]
    }
   ],
   "source": [
    "nodes = store['nodes']\n",
    "edges = store['edges']\n",
    "\n",
    "print nodes.head()\n",
    "print edges.head()"
   ]
  },
  {
   "cell_type": "code",
   "execution_count": null,
   "metadata": {
    "collapsed": true
   },
   "outputs": [],
   "source": []
  }
 ],
 "metadata": {
  "kernelspec": {
   "display_name": "Python 2",
   "language": "python",
   "name": "python2"
  },
  "language_info": {
   "codemirror_mode": {
    "name": "ipython",
    "version": 2
   },
   "file_extension": ".py",
   "mimetype": "text/x-python",
   "name": "python",
   "nbconvert_exporter": "python",
   "pygments_lexer": "ipython2",
   "version": "2.7.9"
  }
 },
 "nbformat": 4,
 "nbformat_minor": 0
}
